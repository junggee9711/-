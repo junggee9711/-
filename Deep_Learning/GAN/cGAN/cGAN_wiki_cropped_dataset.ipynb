{
 "cells": [
  {
   "cell_type": "code",
   "execution_count": 3,
   "id": "optimum-heath",
   "metadata": {},
   "outputs": [
    {
     "name": "stdout",
     "output_type": "stream",
     "text": [
      "[[(array([[723671, 703186, 711677, ..., 720620, 723893, 713846]], dtype=int32), array([[2009, 1964, 2008, ..., 2013, 2011, 2008]], dtype=uint16), array([[array(['17/10000217_1981-05-05_2009.jpg'], dtype='<U31'),\n",
      "        array(['48/10000548_1925-04-04_1964.jpg'], dtype='<U31'),\n",
      "        array(['12/100012_1948-07-03_2008.jpg'], dtype='<U29'), ...,\n",
      "        array(['09/9998109_1972-12-27_2013.jpg'], dtype='<U30'),\n",
      "        array(['00/9999400_1981-12-13_2011.jpg'], dtype='<U30'),\n",
      "        array(['80/999980_1954-06-11_2008.jpg'], dtype='<U29')]],\n",
      "      dtype=object), array([[1., 1., 1., ..., 1., 1., 0.]]), array([[array(['Sami Jauhojärvi'], dtype='<U15'),\n",
      "        array(['Dettmar Cramer'], dtype='<U14'),\n",
      "        array(['Marc Okrand'], dtype='<U11'), ...,\n",
      "        array(['Michael Wiesinger'], dtype='<U17'),\n",
      "        array(['Johann Grugger'], dtype='<U14'),\n",
      "        array(['Greta Van Susteren'], dtype='<U18')]], dtype=object), array([[array([[111.29109473, 111.29109473, 252.66993082, 252.66993082]]),\n",
      "        array([[252.4833023 , 126.68165115, 354.53192596, 228.73027481]]),\n",
      "        array([[113.52, 169.84, 366.08, 422.4 ]]), ...,\n",
      "        array([[169.88839786,  74.31669472, 235.2534231 , 139.68171997]]),\n",
      "        array([[1, 1, 1, 1]], dtype=uint8),\n",
      "        array([[ 92.72633235,  62.0435549 , 230.12083087, 199.43805342]])]],\n",
      "      dtype=object), array([[4.30096239, 2.6456395 , 4.32932883, ..., 3.49430317,       -inf,\n",
      "        5.48691655]]), array([[       nan, 1.94924791,        nan, ...,        nan,        nan,\n",
      "               nan]]))]]\n"
     ]
    },
    {
     "data": {
      "text/plain": [
       "array([2009, 1964, 2008, ..., 2013, 2011, 2008], dtype=uint16)"
      ]
     },
     "execution_count": 3,
     "metadata": {},
     "output_type": "execute_result"
    }
   ],
   "source": [
    "from scipy import io\n",
    "\n",
    "mat_file = io.loadmat('/home/csle/Desktop/Wiki_Cropped_data/wiki_crop/wiki.mat')\n",
    "print(mat_file.get('wiki'))\n",
    "mat_file['wiki'][0, 0]['full_path'][0]\n",
    "mat_file['wiki'][0,0]['dob'][0]\n",
    "mat_file['wiki'][0, 0]['photo_taken'][0]"
   ]
  },
  {
   "cell_type": "code",
   "execution_count": 19,
   "id": "popular-population",
   "metadata": {},
   "outputs": [],
   "source": [
    "def calculate_age(taken, dob):\n",
    "    birth = datetime.fromordinal(max(int(dob) - 366, 1))\n",
    "    # 사진을 1년 중 중간 즈음에 찍은 것으로 가정\n",
    "    if birth.month < 7:\n",
    "        return taken - birth.year\n",
    "    else:\n",
    "        return taken - birth.year - 1\n",
    "\n",
    "def load_data(wiki_dir, dataset='wiki'):\n",
    "    # wiki.mat 파일 불러오기\n",
    "    meta = loadmat(os.path.join(wiki_dir, \"{}.mat\".format(dataset)))\n",
    "    # 이미지파일 이름 목록\n",
    "    full_path = meta[dataset][0, 0]['full_path'][0]\n",
    "    # 사진 찍은 날짜 목록\n",
    "    dob = meta[dataset][0,0]['dob'][0]\n",
    "    # 각각의 사진 찍은 연도 목록\n",
    "    photo_taken = meta[dataset][0, 0]['photo_taken'][0]\n",
    "    # 사진 찍은 연도와 날짜를 기준으로 이미지 인물의 나이 계산\n",
    "    age = [calculate_age(photo_taken[i], dob[i]) for i in range(len(dob))]\n",
    "    \n",
    "    # 모든 이미지와 이에 대응하는 나이들로 이루어진 리스트를 만듬\n",
    "    images = []\n",
    "    age_list = []\n",
    "    for index, image_path in enumerate(full_path):\n",
    "        images.append(image_path[0])\n",
    "        age_list.append(age[index])\n",
    "        \n",
    "    return images, age_list"
   ]
  },
  {
   "cell_type": "code",
   "execution_count": 6,
   "id": "equal-chance",
   "metadata": {},
   "outputs": [
    {
     "ename": "ModuleNotFoundError",
     "evalue": "No module named 'tensorflow.examples'",
     "output_type": "error",
     "traceback": [
      "\u001b[0;31m---------------------------------------------------------------------------\u001b[0m",
      "\u001b[0;31mModuleNotFoundError\u001b[0m                       Traceback (most recent call last)",
      "\u001b[0;32m<ipython-input-6-7aba22b052cf>\u001b[0m in \u001b[0;36m<module>\u001b[0;34m\u001b[0m\n\u001b[1;32m      1\u001b[0m \u001b[0;32mimport\u001b[0m \u001b[0mnumpy\u001b[0m \u001b[0;32mas\u001b[0m \u001b[0mnp\u001b[0m\u001b[0;34m\u001b[0m\u001b[0;34m\u001b[0m\u001b[0m\n\u001b[1;32m      2\u001b[0m \u001b[0;32mimport\u001b[0m \u001b[0mmatplotlib\u001b[0m\u001b[0;34m.\u001b[0m\u001b[0mpyplot\u001b[0m \u001b[0;32mas\u001b[0m \u001b[0mplt\u001b[0m\u001b[0;34m\u001b[0m\u001b[0;34m\u001b[0m\u001b[0m\n\u001b[0;32m----> 3\u001b[0;31m \u001b[0;32mfrom\u001b[0m \u001b[0mtensorflow\u001b[0m\u001b[0;34m.\u001b[0m\u001b[0mexamples\u001b[0m\u001b[0;34m.\u001b[0m\u001b[0mtutorials\u001b[0m\u001b[0;34m.\u001b[0m\u001b[0mmnist\u001b[0m \u001b[0;32mimport\u001b[0m \u001b[0minput_data\u001b[0m\u001b[0;34m\u001b[0m\u001b[0;34m\u001b[0m\u001b[0m\n\u001b[0m\u001b[1;32m      4\u001b[0m \u001b[0;34m\u001b[0m\u001b[0m\n\u001b[1;32m      5\u001b[0m \u001b[0mmnist\u001b[0m \u001b[0;34m=\u001b[0m \u001b[0minput_data\u001b[0m\u001b[0;34m.\u001b[0m\u001b[0mread_data_sets\u001b[0m\u001b[0;34m(\u001b[0m\u001b[0;34m'MNIST_data/'\u001b[0m\u001b[0;34m,\u001b[0m \u001b[0mone_hot\u001b[0m \u001b[0;34m=\u001b[0m \u001b[0;32mFalse\u001b[0m\u001b[0;34m)\u001b[0m\u001b[0;34m\u001b[0m\u001b[0;34m\u001b[0m\u001b[0m\n",
      "\u001b[0;31mModuleNotFoundError\u001b[0m: No module named 'tensorflow.examples'"
     ]
    }
   ],
   "source": []
  },
  {
   "cell_type": "code",
   "execution_count": null,
   "id": "baking-color",
   "metadata": {},
   "outputs": [],
   "source": []
  }
 ],
 "metadata": {
  "kernelspec": {
   "display_name": "Python 3",
   "language": "python",
   "name": "python3"
  },
  "language_info": {
   "codemirror_mode": {
    "name": "ipython",
    "version": 3
   },
   "file_extension": ".py",
   "mimetype": "text/x-python",
   "name": "python",
   "nbconvert_exporter": "python",
   "pygments_lexer": "ipython3",
   "version": "3.7.9"
  }
 },
 "nbformat": 4,
 "nbformat_minor": 5
}
