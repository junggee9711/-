{
 "cells": [
  {
   "cell_type": "code",
   "execution_count": 18,
   "id": "optimum-heath",
   "metadata": {},
   "outputs": [
    {
     "data": {
      "text/plain": [
       "array([array(['17/10000217_1981-05-05_2009.jpg'], dtype='<U31'),\n",
       "       array(['48/10000548_1925-04-04_1964.jpg'], dtype='<U31'),\n",
       "       array(['12/100012_1948-07-03_2008.jpg'], dtype='<U29'), ...,\n",
       "       array(['09/9998109_1972-12-27_2013.jpg'], dtype='<U30'),\n",
       "       array(['00/9999400_1981-12-13_2011.jpg'], dtype='<U30'),\n",
       "       array(['80/999980_1954-06-11_2008.jpg'], dtype='<U29')],\n",
       "      dtype=object)"
      ]
     },
     "execution_count": 18,
     "metadata": {},
     "output_type": "execute_result"
    }
   ],
   "source": [
    "from scipy import io\n",
    "\n",
    "mat_file = io.loadmat('/home/csle/Desktop/Wiki_Cropped_data/wiki_crop/wiki.mat')\n",
    "mat_file['wiki'][0, 0]['full_path'][0]\n",
    "mat_file['wiki'][0,0]['dob'][0]\n",
    "mat_file['wiki'][0, 0]['photo_taken'][0]"
   ]
  },
  {
   "cell_type": "code",
   "execution_count": 19,
   "id": "popular-population",
   "metadata": {},
   "outputs": [],
   "source": [
    "def calculate_age(taken, dob):\n",
    "    birth = datetime.fromordinal(max(int(dob) - 366, 1))\n",
    "    # 사진을 1년 중 중간 즈음에 찍은 것으로 가정\n",
    "    if birth.month < 7:\n",
    "        return taken - birth.year\n",
    "    else:\n",
    "        return taken - birth.year - 1\n",
    "\n",
    "def load_data(wiki_dir, dataset='wiki'):\n",
    "    # wiki.mat 파일 불러오기\n",
    "    meta = loadmat(os.path.join(wiki_dir, \"{}.mat\".format(dataset)))\n",
    "    # 이미지파일 이름 목록\n",
    "    full_path = meta[dataset][0, 0]['full_path'][0]\n",
    "    # 사진 찍은 날짜 목록\n",
    "    dob = meta[dataset][0,0]['dob'][0]\n",
    "    # 각각의 사진 찍은 연도 목록\n",
    "    photo_taken = meta[dataset][0, 0]['photo_taken'][0]\n",
    "    # 사진 찍은 연도와 날짜를 기준으로 이미지 인물의 나이 계산\n",
    "    age = [calculate_age(photo_taken[i], dob[i]) for i in range(len(dob))]\n",
    "    \n",
    "    # 모든 이미지와 이에 대응하는 나이들로 이루어진 리스트를 만듬\n",
    "    images = []\n",
    "    age_list = []\n",
    "    for index, image_path in enumerate(full_path):\n",
    "        images.append(image_path[0])\n",
    "        age_list.append(age[index])\n",
    "        \n",
    "    return images, age_list"
   ]
  },
  {
   "cell_type": "code",
   "execution_count": 21,
   "id": "equal-chance",
   "metadata": {},
   "outputs": [],
   "source": []
  },
  {
   "cell_type": "code",
   "execution_count": null,
   "id": "baking-color",
   "metadata": {},
   "outputs": [],
   "source": []
  }
 ],
 "metadata": {
  "kernelspec": {
   "display_name": "Python 3",
   "language": "python",
   "name": "python3"
  },
  "language_info": {
   "codemirror_mode": {
    "name": "ipython",
    "version": 3
   },
   "file_extension": ".py",
   "mimetype": "text/x-python",
   "name": "python",
   "nbconvert_exporter": "python",
   "pygments_lexer": "ipython3",
   "version": "3.7.9"
  }
 },
 "nbformat": 4,
 "nbformat_minor": 5
}
