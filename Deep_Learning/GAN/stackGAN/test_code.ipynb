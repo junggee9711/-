{
 "cells": [
  {
   "cell_type": "code",
   "execution_count": 2,
   "id": "powered-nicholas",
   "metadata": {},
   "outputs": [],
   "source": [
    "import pickle\n",
    "\n",
    "def load_filenames(filenames_file_path):\n",
    "    \"\"\"\n",
    "    Load filenames.pickle file and return a list of all file names\n",
    "    \"\"\"\n",
    "    with open(filenames_file_path, 'rb') as f:\n",
    "        filenames = pickle.load(f, encoding='latin1')\n",
    "    return filenames\n",
    "\n",
    "filenames = load_filenames('/home/csle/Desktop/CUB/train/filenames.pickle')"
   ]
  },
  {
   "cell_type": "code",
   "execution_count": 5,
   "id": "sophisticated-overview",
   "metadata": {
    "scrolled": true
   },
   "outputs": [
    {
     "data": {
      "text/plain": [
       "['002.Laysan_Albatross/Laysan_Albatross_0002_1027',\n",
       " '002.Laysan_Albatross/Laysan_Albatross_0003_1033',\n",
       " '002.Laysan_Albatross/Laysan_Albatross_0082_524']"
      ]
     },
     "execution_count": 5,
     "metadata": {},
     "output_type": "execute_result"
    }
   ],
   "source": [
    "filenames[:3]\n"
   ]
  },
  {
   "cell_type": "code",
   "execution_count": 2,
   "id": "toxic-praise",
   "metadata": {},
   "outputs": [
    {
     "data": {
      "text/plain": [
       "0.44294481608085334"
      ]
     },
     "execution_count": 2,
     "metadata": {},
     "output_type": "execute_result"
    }
   ],
   "source": [
    "0.4409966468811035+2*0.0009740845998749137"
   ]
  }
 ],
 "metadata": {
  "kernelspec": {
   "display_name": "Python 3",
   "language": "python",
   "name": "python3"
  },
  "language_info": {
   "codemirror_mode": {
    "name": "ipython",
    "version": 3
   },
   "file_extension": ".py",
   "mimetype": "text/x-python",
   "name": "python",
   "nbconvert_exporter": "python",
   "pygments_lexer": "ipython3",
   "version": "3.7.9"
  }
 },
 "nbformat": 4,
 "nbformat_minor": 5
}
