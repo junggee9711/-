{
 "cells": [
  {
   "cell_type": "code",
   "execution_count": 18,
   "id": "concrete-dating",
   "metadata": {},
   "outputs": [
    {
     "name": "stdout",
     "output_type": "stream",
     "text": [
      "and\n",
      "finish\n"
     ]
    }
   ],
   "source": [
    "import pickle\n",
    "import numpy as np\n",
    "\n",
    "def load_file(file_path):\n",
    "    with open(file_path, 'rb') as f:\n",
    "        file = pickle.load(f, encoding='latin1')\n",
    "    return file\n",
    "\n",
    "text_embedding = load_file('/home/csle/Desktop/train/char-CNN-RNN-embeddings.pickle')\n",
    "\n",
    "print('and')\n",
    "\n",
    "j = 0\n",
    "list = []\n",
    "for n in range(len(text_embedding)):\n",
    "    for k in range(len(text_embedding[n])):\n",
    "        for i in text_embedding[n][k]:\n",
    "            if i > 1 or i < -1 or i == 0:\n",
    "                j += 1\n",
    "                list.append(i)\n",
    "print('finish')"
   ]
  },
  {
   "cell_type": "code",
   "execution_count": 32,
   "id": "hindu-costume",
   "metadata": {},
   "outputs": [
    {
     "name": "stdout",
     "output_type": "stream",
     "text": [
      "0.08805331063548615 -0.09171628504722455\n"
     ]
    }
   ],
   "source": [
    "\n",
    "p=0\n",
    "np=0\n",
    "n=0\n",
    "nn=0\n",
    "list2 = []\n",
    "for j in range(len(text_embedding)):\n",
    "    for k in range(len(text_embedding[j])):\n",
    "        for i in text_embedding[j][k]:\n",
    "            if i>0:\n",
    "                p = p + i\n",
    "                np += 1\n",
    "            if i<0:\n",
    "                n = n + i\n",
    "                nn += 1\n",
    "            list2.append(i)\n",
    "                \n",
    "ap = p/np\n",
    "an = n/nn\n",
    "\n",
    "print(ap, an)\n",
    "                "
   ]
  },
  {
   "cell_type": "code",
   "execution_count": 33,
   "id": "cleared-synthetic",
   "metadata": {
    "scrolled": true
   },
   "outputs": [
    {
     "data": {
      "text/plain": [
       "<AxesSubplot:ylabel='Density'>"
      ]
     },
     "execution_count": 33,
     "metadata": {},
     "output_type": "execute_result"
    },
    {
     "data": {
      "image/png": "[encoded data removed]",
      "text/plain": [
       "<Figure size 432x288 with 1 Axes>"
      ]
     },
     "metadata": {
      "needs_background": "light"
     },
     "output_type": "display_data"
    }
   ],
   "source": [
    "import seaborn as sns\n",
    "\n",
    "sns.kdeplot(list2)\n"
   ]
  },
  {
   "cell_type": "code",
   "execution_count": 41,
   "id": "running-draft",
   "metadata": {},
   "outputs": [
    {
     "name": "stdout",
     "output_type": "stream",
     "text": [
      "8855\n",
      "2933\n"
     ]
    }
   ],
   "source": [
    "text_embedding_train = load_file('/home/csle/Desktop/CUB_train/char-CNN-RNN-embeddings.pickle')\n",
    "text_embedding_test = load_file('/home/csle/Desktop/CUB_test/char-CNN-RNN-embeddings.pickle')\n",
    "\n",
    "print(len(text_embedding_train))\n",
    "print(len(text_embedding_test))"
   ]
  }
 ],
 "metadata": {
  "kernelspec": {
   "display_name": "Python 3",
   "language": "python",
   "name": "python3"
  },
  "language_info": {
   "codemirror_mode": {
    "name": "ipython",
    "version": 3
   },
   "file_extension": ".py",
   "mimetype": "text/x-python",
   "name": "python",
   "nbconvert_exporter": "python",
   "pygments_lexer": "ipython3",
   "version": "3.7.9"
  }
 },
 "nbformat": 4,
 "nbformat_minor": 5
}
