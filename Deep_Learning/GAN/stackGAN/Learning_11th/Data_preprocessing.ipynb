{
 "cells": [
  {
   "cell_type": "code",
   "execution_count": 5,
   "id": "swedish-clearing",
   "metadata": {
    "scrolled": true
   },
   "outputs": [
    {
     "name": "stdout",
     "output_type": "stream",
     "text": [
      "182293\n",
      "17960\n",
      "finish\n"
     ]
    }
   ],
   "source": [
    "'''\n",
    "<<크로핑된 이미지 데이터들과 파일명&속성값 매칭>>\n",
    "'''\n",
    "\n",
    "'''\n",
    "1. 디렉토리 내 파일목록 list 로 불러오기 및 정렬\n",
    "'''\n",
    "import os\n",
    "\n",
    "def file_list(path_dir):\n",
    "    file_list = os.listdir(path_dir)\n",
    "    return file_list\n",
    "\n",
    "cropped_imagenames = file_list('C:/Users/user/Desktop/CelebA_dataset_cropped/img_align_celeba/images')\n",
    "reduce_cropped_imagenames = file_list('C:/Users/user/Desktop/CelebA_dataset_reduce_cropped/img_align_celeba/images')\n",
    "\n",
    "cropped_imagenames.sort()\n",
    "reduce_cropped_imagenames.sort()\n",
    "print(len(cropped_imagenames))\n",
    "print(len(reduce_cropped_imagenames))\n",
    "\n",
    "print('finish')"
   ]
  },
  {
   "cell_type": "code",
   "execution_count": 6,
   "id": "canadian-headquarters",
   "metadata": {},
   "outputs": [
    {
     "name": "stdout",
     "output_type": "stream",
     "text": [
      "['000001.jpg', '000002.jpg', '000005.jpg', '000006.jpg', '000007.jpg', '000008.jpg', '000009.jpg', '000010.jpg', '000011.jpg', '000012.jpg']\n",
      "['000001.jpg', '000002.jpg', '000005.jpg', '000006.jpg', '000007.jpg', '000008.jpg', '000009.jpg', '000010.jpg', '000011.jpg', '000012.jpg']\n"
     ]
    }
   ],
   "source": [
    "# test\n",
    "print(reduce_cropped_imagenames[:10])\n",
    "print(cropped_imagenames[:10])\n"
   ]
  },
  {
   "cell_type": "code",
   "execution_count": 7,
   "id": "classical-medication",
   "metadata": {},
   "outputs": [
    {
     "name": "stdout",
     "output_type": "stream",
     "text": [
      "finish\n"
     ]
    }
   ],
   "source": [
    "'''\n",
    "2. filenames .csv 로 저장\n",
    "'''\n",
    "import csv\n",
    "\n",
    "def save_csv(save_data, name):\n",
    "    alist = []\n",
    "    j = 0\n",
    "    for i in save_data:\n",
    "        alist.append([])\n",
    "        alist[j].append(i)\n",
    "        j += 1\n",
    "    with open(name, 'w') as f:\n",
    "        writer = csv.writer(f)\n",
    "        writer.writerows(alist)\n",
    "    \n",
    "save_csv(cropped_imagenames, 'C:/Users/user/Desktop/CelebA_dataset_cropped/list_filenames.csv')\n",
    "save_csv(reduce_cropped_imagenames, 'C:/Users/user/Desktop/CelebA_dataset_reduce_cropped/list_filenames.csv')\n",
    "\n",
    "print('finish')"
   ]
  },
  {
   "cell_type": "code",
   "execution_count": 9,
   "id": "complicated-territory",
   "metadata": {},
   "outputs": [
    {
     "name": "stdout",
     "output_type": "stream",
     "text": [
      "finish\n"
     ]
    }
   ],
   "source": [
    "'''\n",
    "3. list_attr_celeba_pure.csv & list_bbox_celeba_pure.csv 데이터 list 로 불러오기\n",
    "'''\n",
    "import csv\n",
    "\n",
    "def load_csv(csv_filename):\n",
    "    read_list = []\n",
    "    with open(csv_filename, 'r') as f:\n",
    "        for line in f:\n",
    "            read_list.append(line)\n",
    "    return read_list\n",
    "\n",
    "list_attr_celeba = load_csv('C:/Users/user/Desktop/CelebA_dataset_cropped/list_attr_celeba_pure.csv')\n",
    "list_attr_celeba_reduce = load_csv('C:/Users/user/Desktop/CelebA_dataset_reduce_cropped/list_attr_celeba_pure.csv')\n",
    "list_bbox_celeba = load_csv('C:/Users/user/Desktop/CelebA_dataset_cropped/list_bbox_celeba_pure.csv')\n",
    "list_bbox_celeba_reduce = load_csv('C:/Users/user/Desktop/CelebA_dataset_reduce_cropped/list_bbox_celeba_pure.csv')\n",
    "\n",
    "print('finish')"
   ]
  },
  {
   "cell_type": "code",
   "execution_count": 10,
   "id": "excited-rainbow",
   "metadata": {
    "scrolled": true
   },
   "outputs": [
    {
     "name": "stdout",
     "output_type": "stream",
     "text": [
      "(20000,)\n",
      "(20000,)\n",
      "['95,71,226,313\\n', '72,94,221,306\\n', '216,59,91,126\\n', '622,257,564,781\\n', '236,109,120,166\\n', '146,67,182,252\\n', '64,93,211,292\\n', '212,89,218,302\\n', '600,274,343,475\\n', '113,110,211,292\\n']\n",
      "['-1,1,1,-1,-1,-1,-1,-1,-1,-1,-1,1,-1,-1,-1,-1,-1,-1,1,1,-1,1,-1,-1,1,-1,-1,1,-1,-1,-1,1,1,-1,1,-1,1,-1,-1,1\\n', '-1,-1,-1,1,-1,-1,-1,1,-1,-1,-1,1,-1,-1,-1,-1,-1,-1,-1,1,-1,1,-1,-1,1,-1,-1,-1,-1,-1,-1,1,-1,-1,-1,-1,-1,-1,-1,1\\n', '-1,-1,-1,-1,-1,-1,1,-1,-1,-1,1,-1,-1,-1,-1,-1,-1,-1,-1,-1,1,-1,-1,1,1,-1,-1,1,-1,-1,-1,-1,-1,1,-1,-1,-1,-1,-1,1\\n', '-1,-1,1,-1,-1,-1,-1,-1,-1,-1,-1,-1,-1,-1,-1,-1,-1,-1,-1,-1,-1,-1,-1,-1,1,-1,-1,1,-1,-1,-1,-1,1,-1,1,-1,1,1,-1,1\\n', '-1,1,1,-1,-1,-1,1,-1,-1,-1,-1,-1,-1,-1,-1,-1,-1,-1,1,-1,-1,-1,-1,1,1,-1,-1,1,-1,-1,-1,-1,-1,-1,-1,-1,1,-1,-1,1\\n', '-1,1,1,-1,-1,-1,1,-1,-1,-1,-1,1,-1,-1,-1,-1,-1,-1,1,-1,-1,1,-1,-1,1,-1,-1,-1,-1,-1,-1,-1,-1,1,1,-1,1,-1,-1,1\\n', '1,-1,1,1,-1,-1,1,1,1,-1,-1,-1,1,-1,-1,-1,-1,-1,-1,-1,1,-1,-1,-1,1,-1,-1,1,-1,-1,-1,-1,1,-1,-1,-1,-1,-1,-1,1\\n', '1,1,-1,1,-1,-1,1,-1,1,-1,-1,-1,-1,-1,-1,-1,-1,-1,-1,-1,1,-1,-1,-1,1,-1,-1,1,-1,-1,-1,-1,-1,-1,-1,-1,-1,-1,-1,1\\n', '-1,1,1,-1,-1,1,1,-1,-1,-1,-1,-1,-1,-1,-1,-1,-1,-1,1,1,-1,1,-1,-1,1,1,-1,1,-1,1,-1,1,-1,-1,1,-1,1,-1,-1,1\\n', '-1,-1,1,-1,-1,-1,-1,-1,-1,-1,-1,-1,-1,-1,-1,-1,-1,-1,1,1,-1,-1,-1,-1,1,-1,-1,-1,-1,-1,-1,-1,-1,1,-1,-1,1,-1,-1,1\\n']\n",
      "(202599,)\n",
      "(202599,)\n",
      "['95,71,226,313\\n', '72,94,221,306\\n', '216,59,91,126\\n', '622,257,564,781\\n', '236,109,120,166\\n', '146,67,182,252\\n', '64,93,211,292\\n', '212,89,218,302\\n', '600,274,343,475\\n', '113,110,211,292\\n']\n",
      "['-1,1,1,-1,-1,-1,-1,-1,-1,-1,-1,1,-1,-1,-1,-1,-1,-1,1,1,-1,1,-1,-1,1,-1,-1,1,-1,-1,-1,1,1,-1,1,-1,1,-1,-1,1\\n', '-1,-1,-1,1,-1,-1,-1,1,-1,-1,-1,1,-1,-1,-1,-1,-1,-1,-1,1,-1,1,-1,-1,1,-1,-1,-1,-1,-1,-1,1,-1,-1,-1,-1,-1,-1,-1,1\\n', '-1,-1,-1,-1,-1,-1,1,-1,-1,-1,1,-1,-1,-1,-1,-1,-1,-1,-1,-1,1,-1,-1,1,1,-1,-1,1,-1,-1,-1,-1,-1,1,-1,-1,-1,-1,-1,1\\n', '-1,-1,1,-1,-1,-1,-1,-1,-1,-1,-1,-1,-1,-1,-1,-1,-1,-1,-1,-1,-1,-1,-1,-1,1,-1,-1,1,-1,-1,-1,-1,1,-1,1,-1,1,1,-1,1\\n', '-1,1,1,-1,-1,-1,1,-1,-1,-1,-1,-1,-1,-1,-1,-1,-1,-1,1,-1,-1,-1,-1,1,1,-1,-1,1,-1,-1,-1,-1,-1,-1,-1,-1,1,-1,-1,1\\n', '-1,1,1,-1,-1,-1,1,-1,-1,-1,-1,1,-1,-1,-1,-1,-1,-1,1,-1,-1,1,-1,-1,1,-1,-1,-1,-1,-1,-1,-1,-1,1,1,-1,1,-1,-1,1\\n', '1,-1,1,1,-1,-1,1,1,1,-1,-1,-1,1,-1,-1,-1,-1,-1,-1,-1,1,-1,-1,-1,1,-1,-1,1,-1,-1,-1,-1,1,-1,-1,-1,-1,-1,-1,1\\n', '1,1,-1,1,-1,-1,1,-1,1,-1,-1,-1,-1,-1,-1,-1,-1,-1,-1,-1,1,-1,-1,-1,1,-1,-1,1,-1,-1,-1,-1,-1,-1,-1,-1,-1,-1,-1,1\\n', '-1,1,1,-1,-1,1,1,-1,-1,-1,-1,-1,-1,-1,-1,-1,-1,-1,1,1,-1,1,-1,-1,1,1,-1,1,-1,1,-1,1,-1,-1,1,-1,1,-1,-1,1\\n', '-1,-1,1,-1,-1,-1,-1,-1,-1,-1,-1,-1,-1,-1,-1,-1,-1,-1,1,1,-1,-1,-1,-1,1,-1,-1,-1,-1,-1,-1,-1,-1,1,-1,-1,1,-1,-1,1\\n']\n"
     ]
    }
   ],
   "source": [
    "# test\n",
    "import numpy as np\n",
    "print(np.array(list_bbox_celeba_reduce).shape)\n",
    "print(np.array(list_attr_celeba_reduce).shape)\n",
    "print(list_bbox_celeba_reduce[:10])\n",
    "print(list_attr_celeba_reduce[:10])\n",
    "print(np.array(list_bbox_celeba).shape)\n",
    "print(np.array(list_attr_celeba).shape)\n",
    "print(list_bbox_celeba[:10])\n",
    "print(list_attr_celeba[:10])"
   ]
  },
  {
   "cell_type": "code",
   "execution_count": 11,
   "id": "nonprofit-meeting",
   "metadata": {
    "scrolled": false
   },
   "outputs": [
    {
     "name": "stdout",
     "output_type": "stream",
     "text": [
      "finish\n"
     ]
    }
   ],
   "source": [
    "'''\n",
    "4. (2) 에서 불러온 list 에서 이미지 속성값을 문자열로 불러왔으므로 문자열에서 -1 -> -0.1로, 1 -> 0.1 로 바꿈\n",
    "'''\n",
    "def change_attr_str(List):\n",
    "    for i in range(len(List)):\n",
    "        List[i] = List[i].replace('1', '0.1')\n",
    "        List[i] = List[i].replace('-1', '-0.1')\n",
    "    return List\n",
    "\n",
    "list_attr_celeba = change_attr_str(list_attr_celeba)\n",
    "list_attr_celeba_reduce = change_attr_str(list_attr_celeba_reduce) \n",
    "\n",
    "print('finish')"
   ]
  },
  {
   "cell_type": "code",
   "execution_count": 12,
   "id": "regulation-anger",
   "metadata": {
    "scrolled": true
   },
   "outputs": [
    {
     "name": "stdout",
     "output_type": "stream",
     "text": [
      "['-0.1,0.1,0.1,-0.1,-0.1,-0.1,-0.1,-0.1,-0.1,-0.1,-0.1,0.1,-0.1,-0.1,-0.1,-0.1,-0.1,-0.1,0.1,0.1,-0.1,0.1,-0.1,-0.1,0.1,-0.1,-0.1,0.1,-0.1,-0.1,-0.1,0.1,0.1,-0.1,0.1,-0.1,0.1,-0.1,-0.1,0.1\\n', '-0.1,-0.1,-0.1,0.1,-0.1,-0.1,-0.1,0.1,-0.1,-0.1,-0.1,0.1,-0.1,-0.1,-0.1,-0.1,-0.1,-0.1,-0.1,0.1,-0.1,0.1,-0.1,-0.1,0.1,-0.1,-0.1,-0.1,-0.1,-0.1,-0.1,0.1,-0.1,-0.1,-0.1,-0.1,-0.1,-0.1,-0.1,0.1\\n', '-0.1,-0.1,-0.1,-0.1,-0.1,-0.1,0.1,-0.1,-0.1,-0.1,0.1,-0.1,-0.1,-0.1,-0.1,-0.1,-0.1,-0.1,-0.1,-0.1,0.1,-0.1,-0.1,0.1,0.1,-0.1,-0.1,0.1,-0.1,-0.1,-0.1,-0.1,-0.1,0.1,-0.1,-0.1,-0.1,-0.1,-0.1,0.1\\n']\n",
      "['-0.1,0.1,0.1,-0.1,-0.1,-0.1,-0.1,-0.1,-0.1,-0.1,-0.1,0.1,-0.1,-0.1,-0.1,-0.1,-0.1,-0.1,0.1,0.1,-0.1,0.1,-0.1,-0.1,0.1,-0.1,-0.1,0.1,-0.1,-0.1,-0.1,0.1,0.1,-0.1,0.1,-0.1,0.1,-0.1,-0.1,0.1\\n', '-0.1,-0.1,-0.1,0.1,-0.1,-0.1,-0.1,0.1,-0.1,-0.1,-0.1,0.1,-0.1,-0.1,-0.1,-0.1,-0.1,-0.1,-0.1,0.1,-0.1,0.1,-0.1,-0.1,0.1,-0.1,-0.1,-0.1,-0.1,-0.1,-0.1,0.1,-0.1,-0.1,-0.1,-0.1,-0.1,-0.1,-0.1,0.1\\n', '-0.1,-0.1,-0.1,-0.1,-0.1,-0.1,0.1,-0.1,-0.1,-0.1,0.1,-0.1,-0.1,-0.1,-0.1,-0.1,-0.1,-0.1,-0.1,-0.1,0.1,-0.1,-0.1,0.1,0.1,-0.1,-0.1,0.1,-0.1,-0.1,-0.1,-0.1,-0.1,0.1,-0.1,-0.1,-0.1,-0.1,-0.1,0.1\\n']\n"
     ]
    }
   ],
   "source": [
    "#test\n",
    "print(list_attr_celeba[:3])\n",
    "print(list_attr_celeba_reduce[:3])"
   ]
  },
  {
   "cell_type": "code",
   "execution_count": 13,
   "id": "skilled-header",
   "metadata": {
    "scrolled": true
   },
   "outputs": [
    {
     "name": "stdout",
     "output_type": "stream",
     "text": [
      "finish\n"
     ]
    }
   ],
   "source": [
    "'''\n",
    "5. (1) 에서 불러온 list 에 없는 이미지 파일 list 만들기\n",
    "'''\n",
    "list202599 = list(range(1,202600))\n",
    "list20000 = list(range(1,20001))\n",
    "nolist = []\n",
    "nolist_reduce = []\n",
    "\n",
    "for i in range(180978):\n",
    "    cropped_imagenames[i] = cropped_imagenames[i].replace('.jpg','')\n",
    "    cropped_imagenames[i] = int(cropped_imagenames[i])\n",
    "for i in list202599:\n",
    "    if i not in cropped_imagenames:\n",
    "        nolist.append(i)        \n",
    "\n",
    "for i in range(17826):\n",
    "    reduce_cropped_imagenames[i] = reduce_cropped_imagenames[i].replace('.jpg','')\n",
    "    reduce_cropped_imagenames[i] = int(reduce_cropped_imagenames[i])\n",
    "for i in list20000:\n",
    "    if i not in reduce_cropped_imagenames:\n",
    "        nolist_reduce.append(i)\n",
    "        \n",
    "        \n",
    "print('finish')"
   ]
  },
  {
   "cell_type": "code",
   "execution_count": 14,
   "id": "warming-cruise",
   "metadata": {
    "scrolled": false
   },
   "outputs": [
    {
     "name": "stdout",
     "output_type": "stream",
     "text": [
      "[1, 2, 5, 6, 7, 8, 9, 10, 11, 12]\n",
      "[3, 4, 36, 41, 60]\n",
      "[1, 2, 5, 6, 7, 8, 9, 10, 11, 12]\n",
      "[3, 4, 36, 41, 60]\n",
      "20134\n",
      "203914\n",
      "21621\n",
      "2174\n"
     ]
    }
   ],
   "source": [
    "#test\n",
    "print(reduce_cropped_imagenames[:10])\n",
    "print(nolist_reduce[:5])\n",
    "print(cropped_imagenames[:10])\n",
    "print(nolist[:5])\n",
    "\n",
    "print(len(reduce_cropped_imagenames)+len(nolist_reduce))\n",
    "print(len(cropped_imagenames)+len(nolist))\n",
    "\n",
    "print(len(nolist))\n",
    "print(len(nolist_reduce))"
   ]
  },
  {
   "cell_type": "code",
   "execution_count": 15,
   "id": "concrete-quarter",
   "metadata": {},
   "outputs": [
    {
     "name": "stdout",
     "output_type": "stream",
     "text": [
      "finish\n"
     ]
    }
   ],
   "source": [
    "'''\n",
    "6. (1) 에서 불러온 list 에 없는 이미지 정보(attr, bbox) 삭제\n",
    "'''\n",
    "def del_image_info(image_list, del_image_list):\n",
    "    del_img_inf =[]\n",
    "    for i in del_image_list:\n",
    "        n = image_list[i-1]\n",
    "        del_img_inf.append(n)\n",
    "    for i in del_img_inf:\n",
    "        image_list.remove(i)\n",
    "\n",
    "del_image_info(list_attr_celeba, nolist)\n",
    "del_image_info(list_attr_celeba_reduce, nolist_reduce)\n",
    "del_image_info(list_bbox_celeba, nolist)\n",
    "del_image_info(list_bbox_celeba_reduce, nolist_reduce)\n",
    "\n",
    "print('finish')"
   ]
  },
  {
   "cell_type": "code",
   "execution_count": 16,
   "id": "israeli-justice",
   "metadata": {},
   "outputs": [
    {
     "name": "stdout",
     "output_type": "stream",
     "text": [
      "182293\n",
      "17960\n",
      "180978\n",
      "17826\n",
      "180978\n",
      "17826\n",
      "['-0.1,0.1,0.1,-0.1,-0.1,-0.1,-0.1,-0.1,-0.1,-0.1,-0.1,0.1,-0.1,-0.1,-0.1,-0.1,-0.1,-0.1,0.1,0.1,-0.1,0.1,-0.1,-0.1,0.1,-0.1,-0.1,0.1,-0.1,-0.1,-0.1,0.1,0.1,-0.1,0.1,-0.1,0.1,-0.1,-0.1,0.1\\n', '-0.1,-0.1,-0.1,0.1,-0.1,-0.1,-0.1,0.1,-0.1,-0.1,-0.1,0.1,-0.1,-0.1,-0.1,-0.1,-0.1,-0.1,-0.1,0.1,-0.1,0.1,-0.1,-0.1,0.1,-0.1,-0.1,-0.1,-0.1,-0.1,-0.1,0.1,-0.1,-0.1,-0.1,-0.1,-0.1,-0.1,-0.1,0.1\\n', '-0.1,0.1,0.1,-0.1,-0.1,-0.1,0.1,-0.1,-0.1,-0.1,-0.1,-0.1,-0.1,-0.1,-0.1,-0.1,-0.1,-0.1,0.1,-0.1,-0.1,-0.1,-0.1,0.1,0.1,-0.1,-0.1,0.1,-0.1,-0.1,-0.1,-0.1,-0.1,-0.1,-0.1,-0.1,0.1,-0.1,-0.1,0.1\\n']\n",
      "['95,71,226,313\\n', '72,94,221,306\\n', '236,109,120,166\\n']\n"
     ]
    }
   ],
   "source": [
    "#test\n",
    "print(len(cropped_imagenames))\n",
    "print(len(reduce_cropped_imagenames))\n",
    "\n",
    "print(len(list_attr_celeba))\n",
    "print(len(list_attr_celeba_reduce))\n",
    "print(len(list_bbox_celeba))\n",
    "print(len(list_bbox_celeba_reduce))\n",
    "\n",
    "print(list_attr_celeba[:3])\n",
    "print(list_bbox_celeba[:3])"
   ]
  },
  {
   "cell_type": "code",
   "execution_count": 17,
   "id": "literary-ballet",
   "metadata": {},
   "outputs": [
    {
     "name": "stdout",
     "output_type": "stream",
     "text": [
      "finish\n"
     ]
    }
   ],
   "source": [
    "'''\n",
    "7. csv 파일로 저장하기 위해 list 각 요소 문자열을 , 로 분리하고, \\n 을 삭제하여 list 로 만듦 (이중 list 생성)\n",
    "'''\n",
    "def splitbycomma_40(list):\n",
    "    for i in range(len(list)):\n",
    "        list[i] = list[i].replace('\\n','')\n",
    "        list[i] = list[i].split(',')\n",
    "        for n in range(40):\n",
    "            list[i][n] = float(list[i][n])\n",
    "    return list\n",
    "\n",
    "def splitbycomma_4(list):\n",
    "    for i in range(len(list)):\n",
    "        list[i] = list[i].replace('\\n','')\n",
    "        list[i] = list[i].split(',')\n",
    "        for n in range(4):\n",
    "            list[i][n] = float(list[i][n])\n",
    "    return list\n",
    "\n",
    "list_attr_celeba = splitbycomma_40(list_attr_celeba)\n",
    "list_attr_celeba_reduce = splitbycomma_40(list_attr_celeba_reduce)\n",
    "list_bbox_celeba = splitbycomma_4(list_bbox_celeba)\n",
    "list_bbox_celeba_reduce = splitbycomma_4(list_bbox_celeba_reduce)\n",
    "\n",
    "print('finish')"
   ]
  },
  {
   "cell_type": "code",
   "execution_count": 18,
   "id": "earned-junior",
   "metadata": {},
   "outputs": [
    {
     "name": "stdout",
     "output_type": "stream",
     "text": [
      "[[-0.1, 0.1, 0.1, -0.1, -0.1, -0.1, -0.1, -0.1, -0.1, -0.1, -0.1, 0.1, -0.1, -0.1, -0.1, -0.1, -0.1, -0.1, 0.1, 0.1, -0.1, 0.1, -0.1, -0.1, 0.1, -0.1, -0.1, 0.1, -0.1, -0.1, -0.1, 0.1, 0.1, -0.1, 0.1, -0.1, 0.1, -0.1, -0.1, 0.1], [-0.1, -0.1, -0.1, 0.1, -0.1, -0.1, -0.1, 0.1, -0.1, -0.1, -0.1, 0.1, -0.1, -0.1, -0.1, -0.1, -0.1, -0.1, -0.1, 0.1, -0.1, 0.1, -0.1, -0.1, 0.1, -0.1, -0.1, -0.1, -0.1, -0.1, -0.1, 0.1, -0.1, -0.1, -0.1, -0.1, -0.1, -0.1, -0.1, 0.1], [-0.1, 0.1, 0.1, -0.1, -0.1, -0.1, 0.1, -0.1, -0.1, -0.1, -0.1, -0.1, -0.1, -0.1, -0.1, -0.1, -0.1, -0.1, 0.1, -0.1, -0.1, -0.1, -0.1, 0.1, 0.1, -0.1, -0.1, 0.1, -0.1, -0.1, -0.1, -0.1, -0.1, -0.1, -0.1, -0.1, 0.1, -0.1, -0.1, 0.1]]\n",
      "[[-0.1, 0.1, 0.1, -0.1, -0.1, -0.1, -0.1, -0.1, -0.1, -0.1, -0.1, 0.1, -0.1, -0.1, -0.1, -0.1, -0.1, -0.1, 0.1, 0.1, -0.1, 0.1, -0.1, -0.1, 0.1, -0.1, -0.1, 0.1, -0.1, -0.1, -0.1, 0.1, 0.1, -0.1, 0.1, -0.1, 0.1, -0.1, -0.1, 0.1], [-0.1, -0.1, -0.1, 0.1, -0.1, -0.1, -0.1, 0.1, -0.1, -0.1, -0.1, 0.1, -0.1, -0.1, -0.1, -0.1, -0.1, -0.1, -0.1, 0.1, -0.1, 0.1, -0.1, -0.1, 0.1, -0.1, -0.1, -0.1, -0.1, -0.1, -0.1, 0.1, -0.1, -0.1, -0.1, -0.1, -0.1, -0.1, -0.1, 0.1], [-0.1, 0.1, 0.1, -0.1, -0.1, -0.1, 0.1, -0.1, -0.1, -0.1, -0.1, -0.1, -0.1, -0.1, -0.1, -0.1, -0.1, -0.1, 0.1, -0.1, -0.1, -0.1, -0.1, 0.1, 0.1, -0.1, -0.1, 0.1, -0.1, -0.1, -0.1, -0.1, -0.1, -0.1, -0.1, -0.1, 0.1, -0.1, -0.1, 0.1]]\n",
      "[[95.0, 71.0, 226.0, 313.0], [72.0, 94.0, 221.0, 306.0], [236.0, 109.0, 120.0, 166.0]]\n",
      "[[95.0, 71.0, 226.0, 313.0], [72.0, 94.0, 221.0, 306.0], [236.0, 109.0, 120.0, 166.0]]\n",
      "180978\n",
      "17826\n",
      "180978\n",
      "17826\n"
     ]
    }
   ],
   "source": [
    "print(list_attr_celeba[:3])\n",
    "print(list_attr_celeba_reduce[:3])\n",
    "print(list_bbox_celeba[:3])\n",
    "print(list_bbox_celeba_reduce[:3])\n",
    "print(len(list_attr_celeba))\n",
    "print(len(list_attr_celeba_reduce))\n",
    "print(len(list_bbox_celeba))\n",
    "print(len(list_bbox_celeba_reduce))"
   ]
  },
  {
   "cell_type": "code",
   "execution_count": 19,
   "id": "divine-arkansas",
   "metadata": {},
   "outputs": [],
   "source": [
    "'''\n",
    "8. csv 파일로 다시 저장\n",
    "'''\n",
    "import csv\n",
    "\n",
    "def save_csv(save_data, name):\n",
    "    with open(name, 'w') as f:\n",
    "        writer = csv.writer(f)\n",
    "        writer.writerows(save_data)\n",
    "\n",
    "save_csv(list_attr_celeba, 'C:/Users/user/Desktop/CelebA_dataset_cropped/list_attr_celeba_pure_del.csv')\n",
    "save_csv(list_attr_celeba_reduce, 'C:/Users/user/Desktop/CelebA_dataset_reduce_cropped/list_attr_celeba_pure_del.csv')\n",
    "save_csv(list_bbox_celeba, 'C:/Users/user/Desktop/CelebA_dataset_cropped/list_bbox_celeba_pure_del.csv')\n",
    "save_csv(list_bbox_celeba_reduce, 'C:/Users/user/Desktop/CelebA_dataset_reduce_cropped/list_bbox_celeba_pure_del.csv')\n",
    "\n",
    "print('finish')"
   ]
  },
  {
   "cell_type": "code",
   "execution_count": null,
   "id": "narrow-wound",
   "metadata": {},
   "outputs": [],
   "source": [
    "-------------------------------------------------------------------------------------------------------------------------------------"
   ]
  },
  {
   "cell_type": "code",
   "execution_count": 22,
   "id": "fewer-backup",
   "metadata": {},
   "outputs": [
    {
     "name": "stdout",
     "output_type": "stream",
     "text": [
      "finish\n"
     ]
    }
   ],
   "source": [
    "'''\n",
    "9. 각 이미지 속성 값 리스트 불러오기\n",
    "'''\n",
    "def load_attr_list(csv_filename):\n",
    "    read_list = []\n",
    "    with open(csv_filename, 'r') as f:\n",
    "        for line in f:\n",
    "            read_list.append(line)\n",
    "    return read_list  \n",
    "\n",
    "data_dir = \"C:/Users/user/Desktop/CelebA_dataset_cropped\"\n",
    "attr_list = data_dir + \"/list_attr_celeba_pure_del.csv\"\n",
    "data_dir_reduce = \"C:/Users/user/Desktop/CelebA_dataset_reduce_cropped\"\n",
    "attr_list_reduce = data_dir_reduce + \"/list_attr_celeba_pure_del.csv\"\n",
    "\n",
    "attr_list = load_attr_list(attr_list)\n",
    "attr_list_reduce = load_attr_list(attr_list_reduce)\n",
    "\n",
    "print('finish')"
   ]
  },
  {
   "cell_type": "code",
   "execution_count": 23,
   "id": "julian-hybrid",
   "metadata": {},
   "outputs": [
    {
     "name": "stdout",
     "output_type": "stream",
     "text": [
      "361956\n",
      "35652\n",
      "['-0.1,0.1,0.1,-0.1,-0.1,-0.1,-0.1,-0.1,-0.1,-0.1,-0.1,0.1,-0.1,-0.1,-0.1,-0.1,-0.1,-0.1,0.1,0.1,-0.1,0.1,-0.1,-0.1,0.1,-0.1,-0.1,0.1,-0.1,-0.1,-0.1,0.1,0.1,-0.1,0.1,-0.1,0.1,-0.1,-0.1,0.1\\n', '\\n', '-0.1,-0.1,-0.1,0.1,-0.1,-0.1,-0.1,0.1,-0.1,-0.1,-0.1,0.1,-0.1,-0.1,-0.1,-0.1,-0.1,-0.1,-0.1,0.1,-0.1,0.1,-0.1,-0.1,0.1,-0.1,-0.1,-0.1,-0.1,-0.1,-0.1,0.1,-0.1,-0.1,-0.1,-0.1,-0.1,-0.1,-0.1,0.1\\n']\n"
     ]
    }
   ],
   "source": [
    "# test\n",
    "\n",
    "print(len(attr_list))\n",
    "print(len(attr_list_reduce))\n",
    "print(attr_list[:3])"
   ]
  },
  {
   "cell_type": "code",
   "execution_count": 22,
   "id": "collaborative-amazon",
   "metadata": {},
   "outputs": [
    {
     "name": "stdout",
     "output_type": "stream",
     "text": [
      "finish\n"
     ]
    }
   ],
   "source": [
    "'''\n",
    "10. 이미지 속성값을 문자열로 불러왔으므로 \\n를 제거한 후 실수리스트로 바꾸어 저장\n",
    "'''\n",
    "def del_space(attr_list):\n",
    "    for i in range(len(attr_list)):\n",
    "        attr_list[i] = attr_list[i].replace('\\n', '')\n",
    "        attr_list[i] = attr_list[i].split(',')\n",
    "        for n in range(40):\n",
    "            attr_list[i][n] = float(attr_list[i][n]) \n",
    "    return attr_list\n",
    "\n",
    "    \n",
    "attr_list = del_space(attr_list)\n",
    "attr_list_reduce = del_space(attr_list_reduce)\n",
    "\n",
    "print('finish')"
   ]
  },
  {
   "cell_type": "code",
   "execution_count": 23,
   "id": "herbal-knitting",
   "metadata": {},
   "outputs": [
    {
     "name": "stdout",
     "output_type": "stream",
     "text": [
      "180978\n",
      "17826\n",
      "[[-0.1, 0.1, 0.1, -0.1, -0.1, -0.1, -0.1, -0.1, -0.1, -0.1, -0.1, 0.1, -0.1, -0.1, -0.1, -0.1, -0.1, -0.1, 0.1, 0.1, -0.1, 0.1, -0.1, -0.1, 0.1, -0.1, -0.1, 0.1, -0.1, -0.1, -0.1, 0.1, 0.1, -0.1, 0.1, -0.1, 0.1, -0.1, -0.1, 0.1], [-0.1, -0.1, -0.1, 0.1, -0.1, -0.1, -0.1, 0.1, -0.1, -0.1, -0.1, 0.1, -0.1, -0.1, -0.1, -0.1, -0.1, -0.1, -0.1, 0.1, -0.1, 0.1, -0.1, -0.1, 0.1, -0.1, -0.1, -0.1, -0.1, -0.1, -0.1, 0.1, -0.1, -0.1, -0.1, -0.1, -0.1, -0.1, -0.1, 0.1], [-0.1, 0.1, 0.1, -0.1, -0.1, -0.1, 0.1, -0.1, -0.1, -0.1, -0.1, -0.1, -0.1, -0.1, -0.1, -0.1, -0.1, -0.1, 0.1, -0.1, -0.1, -0.1, -0.1, 0.1, 0.1, -0.1, -0.1, 0.1, -0.1, -0.1, -0.1, -0.1, -0.1, -0.1, -0.1, -0.1, 0.1, -0.1, -0.1, 0.1]]\n"
     ]
    }
   ],
   "source": [
    "# test\n",
    "\n",
    "print(len(attr_list))\n",
    "print(len(attr_list_reduce))\n",
    "print(attr_list[:3])"
   ]
  },
  {
   "cell_type": "code",
   "execution_count": 24,
   "id": "dimensional-intensity",
   "metadata": {},
   "outputs": [
    {
     "name": "stdout",
     "output_type": "stream",
     "text": [
      "finish\n"
     ]
    }
   ],
   "source": [
    "'''\n",
    "11. 이미지 데이터를 무작위로 train, test 데이터로 나눔\n",
    "'''\n",
    "import csv\n",
    "import numpy as np\n",
    "import pickle\n",
    "import pandas as pd\n",
    "\n",
    "def split_train_test(dataset, test_ratio):\n",
    "    np.random.seed(1) # 항상 같은 train, test 세트가 생성됨 \n",
    "    shuffled = np.random.permutation(len(dataset)) # 0에서 len(dataset)-1 까지 숫자의 무작위 배열을 만듬\n",
    "    test_data_size = int(len(dataset) * test_ratio) # test_data 의 크기 결정\n",
    "    test_data_index = shuffled[:test_data_size]\n",
    "    train_data_index = shuffled[test_data_size:] # Dataframe \n",
    "    train_data = dataset.iloc[train_data_index]\n",
    "    test_data = dataset.iloc[test_data_index] # .permutation 으로 만든 무작위 배열 index 에서 train, test 데이터를 Dataframe 으로 할당 함\n",
    "    \n",
    "    train_data = list(np.array(train_data[0].tolist()))\n",
    "    test_data = list(np.array(test_data[0].tolist())) # (data_name) Dataframe -> list\n",
    "    \n",
    "    test_data_index = test_data_index.tolist()\n",
    "    train_data_index = train_data_index.tolist() # (data_index) narray -> list\n",
    "    \n",
    "    return train_data, test_data, train_data_index, test_data_index\n",
    "\n",
    "dataset = pd.read_csv('C:/Users/user/Desktop/CelebA_dataset_cropped/list_filenames.csv', header=None)\n",
    "dataset_reduce = pd.read_csv('C:/Users/user/Desktop/CelebA_dataset_reduce_cropped/list_filenames.csv', header=None)\n",
    "train_data_name, test_data_name, train_data_index, test_data_index = split_train_test(dataset, 0.2)\n",
    "train_data_name_reduce, test_data_name_reduce, train_data_index_reduce, test_data_index_reduce = split_train_test(dataset_reduce, 0.2)\n",
    "\n",
    "print('finish')"
   ]
  },
  {
   "cell_type": "code",
   "execution_count": 25,
   "id": "incident-greeting",
   "metadata": {},
   "outputs": [
    {
     "name": "stdout",
     "output_type": "stream",
     "text": [
      "144783 36195\n",
      "['087464.jpg', '200351.jpg', '046910.jpg', '015093.jpg', '075640.jpg'] ['089977.jpg', '019232.jpg', '025110.jpg', '175131.jpg', '074474.jpg']\n",
      "14261 3565\n",
      "['002198.jpg', '007370.jpg', '012831.jpg', '015352.jpg', '000898.jpg'] ['002873.jpg', '018735.jpg', '000963.jpg', '011681.jpg', '006628.jpg']\n",
      "180978\n",
      "17826\n"
     ]
    }
   ],
   "source": [
    "# test\n",
    "\n",
    "print(len(train_data_name), len(test_data_name))\n",
    "print(train_data_name[:5], test_data_name[:5])\n",
    "print(len(train_data_name_reduce), len(test_data_name_reduce))\n",
    "print(train_data_name_reduce[:5], test_data_name_reduce[:5])\n",
    "\n",
    "print(len(train_data_name)+len(test_data_name))\n",
    "print(len(train_data_name_reduce)+len(test_data_name_reduce))"
   ]
  },
  {
   "cell_type": "code",
   "execution_count": 26,
   "id": "dressed-panama",
   "metadata": {},
   "outputs": [
    {
     "name": "stdout",
     "output_type": "stream",
     "text": [
      "finish\n"
     ]
    }
   ],
   "source": [
    "'''\n",
    "12. .pickle 파일로 filenames 을 저장함\n",
    "'''\n",
    "def save_pickle(save_data, name):\n",
    "    with open(name, 'wb') as f:\n",
    "        pickle.dump(save_data, f) # save_data 를 name 경로에 .pickle 파일로 저장함\n",
    "\n",
    "save_pickle(train_data_name, 'C:/Users/user/Desktop/CelebA_dataset_cropped/train/filenames.pickle')\n",
    "save_pickle(test_data_name, 'C:/Users/user/Desktop/CelebA_dataset_cropped/test/filenames.pickle')\n",
    "save_pickle(train_data_name_reduce, 'C:/Users/user/Desktop/CelebA_dataset_reduce_cropped/train/filenames.pickle')\n",
    "save_pickle(test_data_name_reduce, 'C:/Users/user/Desktop/CelebA_dataset_reduce_cropped/test/filenames.pickle')\n",
    "\n",
    "print('finish')"
   ]
  },
  {
   "cell_type": "code",
   "execution_count": 27,
   "id": "absent-private",
   "metadata": {},
   "outputs": [
    {
     "name": "stdout",
     "output_type": "stream",
     "text": [
      "finish\n"
     ]
    }
   ],
   "source": [
    "'''\n",
    "13. test, train 폴더에 무작위로 선택되어 분배 되어있는 이미지 데이터들에 대해, \n",
    "    그 데이터들의 index 에 대응하는 자리에 속성값을 대응 시켜주기 위한 함수\n",
    "'''\n",
    "def parallelize(list, train_data_index, test_data_index):\n",
    "    train_data_attr = []\n",
    "    test_data_attr = []\n",
    "    for i in train_data_index:\n",
    "        train_data_attr.append(list[i])\n",
    "    for n in test_data_index:\n",
    "        test_data_attr.append(list[n])\n",
    "    return train_data_attr, test_data_attr\n",
    "\n",
    "train_data_attr, test_data_attr = parallelize(attr_list, train_data_index, test_data_index)\n",
    "train_data_attr_reduce, test_data_attr_reduce = parallelize(attr_list_reduce, train_data_index_reduce, test_data_index_reduce)\n",
    "\n",
    "print('finish')"
   ]
  },
  {
   "cell_type": "code",
   "execution_count": 28,
   "id": "literary-slovenia",
   "metadata": {},
   "outputs": [
    {
     "name": "stdout",
     "output_type": "stream",
     "text": [
      "144783\n",
      "[[-0.1, -0.1, -0.1, 0.1, -0.1, -0.1, -0.1, 0.1, -0.1, -0.1, -0.1, -0.1, -0.1, -0.1, -0.1, -0.1, -0.1, 0.1, -0.1, 0.1, 0.1, 0.1, -0.1, -0.1, 0.1, -0.1, -0.1, -0.1, 0.1, -0.1, -0.1, 0.1, -0.1, -0.1, -0.1, -0.1, -0.1, -0.1, 0.1, -0.1], [-0.1, -0.1, -0.1, -0.1, -0.1, -0.1, -0.1, -0.1, -0.1, -0.1, 0.1, -0.1, -0.1, -0.1, -0.1, -0.1, -0.1, -0.1, -0.1, -0.1, -0.1, -0.1, -0.1, -0.1, 0.1, -0.1, -0.1, -0.1, -0.1, -0.1, -0.1, -0.1, -0.1, 0.1, -0.1, -0.1, -0.1, -0.1, -0.1, -0.1], [-0.1, -0.1, 0.1, 0.1, -0.1, -0.1, -0.1, -0.1, -0.1, -0.1, -0.1, 0.1, -0.1, -0.1, -0.1, -0.1, -0.1, -0.1, -0.1, -0.1, -0.1, -0.1, -0.1, -0.1, 0.1, 0.1, -0.1, 0.1, -0.1, -0.1, -0.1, -0.1, -0.1, -0.1, -0.1, -0.1, -0.1, -0.1, -0.1, 0.1]]\n"
     ]
    }
   ],
   "source": [
    "# test\n",
    "print(len(train_data_attr))\n",
    "print(train_data_attr[:3])"
   ]
  },
  {
   "cell_type": "code",
   "execution_count": 29,
   "id": "educated-optimization",
   "metadata": {},
   "outputs": [
    {
     "name": "stdout",
     "output_type": "stream",
     "text": [
      "finish\n"
     ]
    }
   ],
   "source": [
    "'''\n",
    "14. 텍스트 임베딩 대신에 각 이미지의 속성값을 저장\n",
    "'''\n",
    "\n",
    "def save_pickle(save_data, name):\n",
    "    with open(name, 'wb') as f:\n",
    "        pickle.dump(save_data, f) # save_data 를 name 경로에 .pickle 파일로 저장함\n",
    "\n",
    "save_pickle(train_data_attr, 'C:/Users/user/Desktop/CelebA_dataset_cropped/train/attr_(embeddings).pickle') \n",
    "save_pickle(test_data_attr, 'C:/Users/user/Desktop/CelebA_dataset_cropped/test/attr_(embeddings).pickle')\n",
    "save_pickle(train_data_attr_reduce, 'C:/Users/user/Desktop/CelebA_dataset_reduce_cropped/train/attr_(embeddings).pickle') \n",
    "save_pickle(test_data_attr_reduce, 'C:/Users/user/Desktop/CelebA_dataset_reduce_cropped/test/attr_(embeddings).pickle')      \n",
    "\n",
    "print('finish')"
   ]
  }
 ],
 "metadata": {
  "kernelspec": {
   "display_name": "Python 3",
   "language": "python",
   "name": "python3"
  },
  "language_info": {
   "codemirror_mode": {
    "name": "ipython",
    "version": 3
   },
   "file_extension": ".py",
   "mimetype": "text/x-python",
   "name": "python",
   "nbconvert_exporter": "python",
   "pygments_lexer": "ipython3",
   "version": "3.7.9"
  }
 },
 "nbformat": 4,
 "nbformat_minor": 5
}
