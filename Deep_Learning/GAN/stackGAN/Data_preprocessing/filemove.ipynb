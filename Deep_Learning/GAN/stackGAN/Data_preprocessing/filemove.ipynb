{
 "cells": [
  {
   "cell_type": "code",
   "execution_count": 1,
   "id": "bound-classification",
   "metadata": {},
   "outputs": [
    {
     "name": "stdout",
     "output_type": "stream",
     "text": [
      "12592\n"
     ]
    }
   ],
   "source": [
    "import shutil\n",
    "\n",
    "src = '/home/csle/Documents/Deep_Learning/GAN/stackGAN/Learning_16th/results'\n",
    "dire = '/home/csle/Desktop/results/16th'\n",
    "\n",
    "j = 0\n",
    "for i in range(1400):\n",
    "    for n in range(1,10):\n",
    "        try:\n",
    "            shutil.move(src+'/gen_{}_{}.png'.format(i, n), dire+'/gen_{}_{}.png'.format(i, n))\n",
    "        except FileNotFoundError:\n",
    "            j += 1\n",
    "print(j)"
   ]
  }
 ],
 "metadata": {
  "kernelspec": {
   "display_name": "Python 3",
   "language": "python",
   "name": "python3"
  },
  "language_info": {
   "codemirror_mode": {
    "name": "ipython",
    "version": 3
   },
   "file_extension": ".py",
   "mimetype": "text/x-python",
   "name": "python",
   "nbconvert_exporter": "python",
   "pygments_lexer": "ipython3",
   "version": "3.7.9"
  }
 },
 "nbformat": 4,
 "nbformat_minor": 5
}
