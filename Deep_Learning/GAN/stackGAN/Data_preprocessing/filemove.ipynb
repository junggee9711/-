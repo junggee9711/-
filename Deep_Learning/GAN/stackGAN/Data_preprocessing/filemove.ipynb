{
 "cells": [
  {
   "cell_type": "code",
   "execution_count": 98,
   "id": "bound-classification",
   "metadata": {},
   "outputs": [
    {
     "name": "stdout",
     "output_type": "stream",
     "text": [
      "19984\n"
     ]
    }
   ],
   "source": [
    "import shutil\n",
    "\n",
    "src = '/home/csle/Documents/Deep_Learning/GAN/stackGAN/Learning_16th/results'\n",
    "dire = '/home/csle/Desktop/results/16th'\n",
    "\n",
    "j = 0\n",
    "for i in range(2000):\n",
    "    for n in range(10):\n",
    "        if n == 1:\n",
    "            j+=1\n",
    "        else:\n",
    "            try:\n",
    "                shutil.move(src+'/gen_{}_{}.png'.format(i, n), dire+'/gen_{}_{}.png'.format(i, n))\n",
    "            except FileNotFoundError:\n",
    "                j += 1\n",
    "print(j)"
   ]
  },
  {
   "cell_type": "code",
   "execution_count": 99,
   "id": "sporting-listening",
   "metadata": {},
   "outputs": [
    {
     "name": "stdout",
     "output_type": "stream",
     "text": [
      "1996\n"
     ]
    }
   ],
   "source": [
    "import shutil\n",
    "\n",
    "src = '/home/csle/Desktop/results/16th'\n",
    "\n",
    "k = 0\n",
    "for i in range(2000):\n",
    "    try:\n",
    "        shutil.move(src+'/gen_{}_0.png'.format(i), dire+'/0/gen_{}_0.png'.format(i))\n",
    "    except FileNotFoundError:\n",
    "        k += 1\n",
    "print(k)"
   ]
  },
  {
   "cell_type": "code",
   "execution_count": 100,
   "id": "impressed-facial",
   "metadata": {},
   "outputs": [
    {
     "name": "stdout",
     "output_type": "stream",
     "text": [
      "1996\n"
     ]
    }
   ],
   "source": [
    "import shutil\n",
    "\n",
    "src = '/home/csle/Desktop/results/16th'\n",
    "\n",
    "k = 0\n",
    "for i in range(2000):\n",
    "    try:\n",
    "        shutil.move(src+'/gen_{}_2.png'.format(i), dire+'/2/gen_{}_2.png'.format(i))\n",
    "    except FileNotFoundError:\n",
    "        k += 1\n",
    "print(k)"
   ]
  },
  {
   "cell_type": "code",
   "execution_count": 101,
   "id": "described-programmer",
   "metadata": {},
   "outputs": [
    {
     "name": "stdout",
     "output_type": "stream",
     "text": [
      "1996\n"
     ]
    }
   ],
   "source": [
    "import shutil\n",
    "\n",
    "src = '/home/csle/Desktop/results/16th'\n",
    "\n",
    "k = 0\n",
    "for i in range(2000):\n",
    "    try:\n",
    "        shutil.move(src+'/gen_{}_3.png'.format(i), dire+'/3/gen_{}_3.png'.format(i))\n",
    "    except FileNotFoundError:\n",
    "        k += 1\n",
    "print(k)"
   ]
  },
  {
   "cell_type": "code",
   "execution_count": 102,
   "id": "victorian-taylor",
   "metadata": {},
   "outputs": [
    {
     "name": "stdout",
     "output_type": "stream",
     "text": [
      "1996\n"
     ]
    }
   ],
   "source": [
    "import shutil\n",
    "\n",
    "src = '/home/csle/Desktop/results/16th'\n",
    "\n",
    "k = 0\n",
    "for i in range(2000):\n",
    "    try:\n",
    "        shutil.move(src+'/gen_{}_4.png'.format(i), dire+'/4/gen_{}_4.png'.format(i))\n",
    "    except FileNotFoundError:\n",
    "        k += 1\n",
    "print(k)"
   ]
  }
 ],
 "metadata": {
  "kernelspec": {
   "display_name": "Python 3",
   "language": "python",
   "name": "python3"
  },
  "language_info": {
   "codemirror_mode": {
    "name": "ipython",
    "version": 3
   },
   "file_extension": ".py",
   "mimetype": "text/x-python",
   "name": "python",
   "nbconvert_exporter": "python",
   "pygments_lexer": "ipython3",
   "version": "3.7.9"
  }
 },
 "nbformat": 4,
 "nbformat_minor": 5
}
