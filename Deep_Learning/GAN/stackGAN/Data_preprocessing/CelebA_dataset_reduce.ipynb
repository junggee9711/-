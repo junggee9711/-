{
 "cells": [
  {
   "cell_type": "code",
   "execution_count": 1,
   "id": "electric-knife",
   "metadata": {},
   "outputs": [
    {
     "data": {
      "text/plain": [
       "'\\n1 ~ 20000 번의 이미지만 남기고 다 지우기\\n'"
      ]
     },
     "execution_count": 1,
     "metadata": {},
     "output_type": "execute_result"
    }
   ],
   "source": [
    "import os\n",
    "\n",
    "\n",
    "for i in range(202600):\n",
    "    if i > 20000:\n",
    "        if i < 100000:\n",
    "            os.remove('/home/csle/Desktop/CelebA_dataset/img_align_celeba/images/0' + '{0}.jpg'.format(i))\n",
    "        else:\n",
    "            os.remove('/home/csle/Desktop/CelebA_dataset/img_align_celeba/images/{0}.jpg'.format(i))\n",
    "    else:\n",
    "        pass\n",
    "    \n",
    "\"\"\"\n",
    "1 ~ 20000 번의 이미지만 남기고 다 지우기\n",
    "\"\"\""
   ]
  }
 ],
 "metadata": {
  "kernelspec": {
   "display_name": "Python 3",
   "language": "python",
   "name": "python3"
  },
  "language_info": {
   "codemirror_mode": {
    "name": "ipython",
    "version": 3
   },
   "file_extension": ".py",
   "mimetype": "text/x-python",
   "name": "python",
   "nbconvert_exporter": "python",
   "pygments_lexer": "ipython3",
   "version": "3.7.9"
  }
 },
 "nbformat": 4,
 "nbformat_minor": 5
}
