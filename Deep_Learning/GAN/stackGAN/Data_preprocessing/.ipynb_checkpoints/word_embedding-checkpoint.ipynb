{
 "cells": [
  {
   "cell_type": "code",
   "execution_count": 10,
   "id": "transsexual-assumption",
   "metadata": {},
   "outputs": [
    {
     "name": "stdout",
     "output_type": "stream",
     "text": [
      "(2933, 10, 1024)\n"
     ]
    }
   ],
   "source": [
    "import pickle\n",
    "import numpy as np\n",
    "\n",
    "def load_filenames(filenames_file_path):\n",
    "    \"\"\"\n",
    "    Load filenames.pickle file and return a list of all file names\n",
    "    \"\"\"\n",
    "    with open(filenames_file_path, 'rb') as f:\n",
    "        filenames = pickle.load(f, encoding='latin1')\n",
    "    return filenames\n",
    "\n",
    "data_dir = \"C:/Users/user/Desktop/birds/birds\"\n",
    "test_dir = data_dir + \"/test\"\n",
    "test_text_embeddings = test_dir + \"/char-CNN-RNN-embeddings.pickle\"\n",
    "\n",
    "text_embeddings = load_filenames(test_text_embeddings)\n",
    "\n",
    "print(np.array(text_embeddings).shape)\n",
    "\n"
   ]
  },
  {
   "cell_type": "code",
   "execution_count": 20,
   "id": "deadly-bones",
   "metadata": {},
   "outputs": [
    {
     "name": "stdout",
     "output_type": "stream",
     "text": [
      "embeddings:  (2933, 10, 1024)\n",
      "(10, 1024)\n",
      "(1024,)\n"
     ]
    }
   ],
   "source": [
    "\"\"\"\n",
    "훈련된 텍스트 임베딩을 불러옴\n",
    "\"\"\"\n",
    "\n",
    "import random\n",
    "\n",
    "def load_embeddings(embeddings_file_path):\n",
    "    with open(embeddings_file_path, 'rb') as f:\n",
    "        embeddings = pickle.load(f, encoding='latin1')\n",
    "        embeddings = np.array(embeddings)\n",
    "        print('embeddings: ', embeddings.shape)\n",
    "    return embeddings\n",
    "\n",
    "data_dir = \"C:/Users/user/Desktop/birds/birds\"\n",
    "test_dir = data_dir + \"/test\"\n",
    "test_text_embeddings = test_dir + \"/char-CNN-RNN-embeddings.pickle\"\n",
    "\n",
    "all_embeddings = load_embeddings(test_text_embeddings)\n",
    "\n",
    "all_embeddings1 = all_embeddings[0, :, :]\n",
    "\n",
    "print(all_embeddings1.shape)\n",
    "\n",
    "embedding_ix = random.randint(0, all_embeddings1.shape[0] - 1)\n",
    "embedding = all_embeddings1[embedding_ix, :]\n",
    "\n",
    "print(embedding.shape)\n",
    "\n",
    "\n",
    "\n",
    "# 원래 stackGAN 알고리즘에서 사용하는 텍스트 임베딩은 사전 훈련된 (1024,) 짜리 텍스트 임베딩 10개 중에서 임의로 한개를 선택하여\n",
    "# (1024,) 를 입력으로 사용하는 것임\n"
   ]
  },
  {
   "cell_type": "code",
   "execution_count": 2,
   "id": "fantastic-breakfast",
   "metadata": {},
   "outputs": [
    {
     "data": {
      "text/plain": [
       "'\\n텍스트 임베딩 대신에 각 이미지의 속성값을 저장\\n'"
      ]
     },
     "execution_count": 2,
     "metadata": {},
     "output_type": "execute_result"
    }
   ],
   "source": [
    "import csv\n",
    "import numpy as np\n",
    "import pickle\n",
    "import pandas as pd\n",
    "\n",
    "data_dir = \"/home/csle/Desktop/CelebA_dataset_reduce\"\n",
    "attr_list = data_dir + \"/list_attr_celeba_pure.csv\"\n",
    "\n",
    "'''\n",
    "각 이미지 속성 값 리스트 불러오기\n",
    "'''\n",
    "def load_attr_list(csv_filename):\n",
    "    read_list = []\n",
    "    with open(csv_filename, 'r') as f:\n",
    "        for line in f:\n",
    "            read_list.append(line)\n",
    "    return read_list  \n",
    "\n",
    "attr_list = load_attr_list(attr_list)\n",
    "\n",
    "'''\n",
    "이미지 속성값을 문자열로 불러왔으므로 문자열에서 -1 을 0으로 바꾸고 \\n를 제거한 후 정수리스트로 바꾸어 저장\n",
    "'''\n",
    "def change_minus1_to_zero(attr_list):\n",
    "    for i in range(len(attr_list)):\n",
    "        attr_list[i] = attr_list[i].replace('-1', '0') \n",
    "        attr_list[i] = attr_list[i].replace('\\n', '')\n",
    "        attr_list[i] = attr_list[i].split(',')\n",
    "        for n in range(40):\n",
    "            attr_list[i][n] = int(attr_list[i][n]) \n",
    "    return attr_list\n",
    "\n",
    "    \n",
    "attr_list = change_minus1_to_zero(attr_list)\n",
    "\n",
    "dataset = pd.read_csv('/home/csle/Desktop/CelebA_dataset_reduce/list_filenames.csv', header=None)\n",
    "\n",
    "'''\n",
    "이미지 데이터를 무작위로 train, test 데이터로 나눔\n",
    "'''\n",
    "def split_train_test(dataset, test_ratio):\n",
    "    np.random.seed(1) # 항상 같은 train, test 세트가 생성됨 \n",
    "    shuffled = np.random.permutation(len(dataset)) # 0에서 len(dataset)-1 까지 숫자의 무작위 배열을 만듬\n",
    "    test_data_size = int(len(dataset) * test_ratio) # test_data 의 크기 결정\n",
    "    test_data_index = shuffled[:test_data_size]\n",
    "    train_data_index = shuffled[test_data_size:] # Dataframe \n",
    "    train_data = dataset.iloc[train_data_index]\n",
    "    test_data = dataset.iloc[test_data_index] # .permutation 으로 만든 무작위 배열 index 에서 train, test 데이터를 Dataframe 으로 할당 함\n",
    "    \n",
    "    train_data = list(np.array(train_data[0].tolist()))\n",
    "    test_data = list(np.array(test_data[0].tolist())) # (data_name) Dataframe -> list\n",
    "    \n",
    "    test_data_index = test_data_index.tolist()\n",
    "    train_data_index = train_data_index.tolist() # (data_index) narray -> list\n",
    "    \n",
    "    return train_data, test_data, train_data_index, test_data_index\n",
    "\n",
    "train_data_name, test_data_name, train_data_index, test_data_index = split_train_test(dataset, 0.2)\n",
    "\n",
    "'''\n",
    "test, train 폴더에 무작위로 선택되어 분배 되어있는 이미지 데이터들에 대해, \n",
    "그 데이터들의 index 에 대응하는 자리에 속성값을 대응 시켜주기 위한 함수\n",
    "'''\n",
    "def parallelize(list, train_data_index, test_data_index):\n",
    "    train_data_attr = []\n",
    "    test_data_attr = []\n",
    "    for i in train_data_index:\n",
    "        train_data_attr.append(list[i])\n",
    "    for n in test_data_index:\n",
    "        test_data_attr.append(list[n])\n",
    "    return train_data_attr, test_data_attr\n",
    "\n",
    "train_data_attr, test_data_attr = parallelize(attr_list, train_data_index, test_data_index)\n",
    "\n",
    "'''\n",
    "텍스트 임베딩 대신에 각 이미지의 속성값을 저장\n",
    "'''\n",
    "\n",
    "def save_pickle(save_data, name):\n",
    "    with open(name, 'wb') as f:\n",
    "        pickle.dump(save_data, f) # save_data 를 name 경로에 .pickle 파일로 저장함\n",
    "\n",
    "save_pickle(train_data_attr, '/home/csle/Desktop/CelebA_dataset_reduce/train/attr_(embeddings).pickle') \n",
    "save_pickle(test_data_attr, '/home/csle/Desktop/CelebA_dataset_reduce/test/attr_(embeddings).pickle')        \n"
   ]
  },
  {
   "cell_type": "code",
   "execution_count": 3,
   "id": "central-incident",
   "metadata": {},
   "outputs": [
    {
     "name": "stdout",
     "output_type": "stream",
     "text": [
      "<class 'list'> (4000,)\n",
      "<class 'list'> (16000,)\n",
      "8149\n",
      "[1, 0, 1, 0, 0, 0, 0, 0, 1, 0, 0, 0, 0, 0, 0, 0, 0, 0, 0, 1, 1, 1, 0, 0, 1, 0, 0, 1, 0, 0, 0, 1, 0, 0, 0, 0, 0, 0, 1, 1]\n",
      "1,0,1,0,0,0,0,0,1,0,0,0,0,0,0,0,0,0,0,1,1,1,0,0,1,0,0,1,0,0,0,1,0,0,0,0,0,0,1,1\n",
      "\n"
     ]
    },
    {
     "data": {
      "text/plain": [
       "'\\n각 이미지의 속성값이 test, train 폴더의 이미지 파일의 인덱스와 잘 대응 됐는지 확인\\n'"
      ]
     },
     "execution_count": 3,
     "metadata": {},
     "output_type": "execute_result"
    }
   ],
   "source": [
    "#test\n",
    "\n",
    "def load_embeddings(embeddings_file_path):\n",
    "    with open(embeddings_file_path, 'rb') as f:\n",
    "        embeddings = pickle.load(f, encoding='latin1')\n",
    "    return embeddings\n",
    "\n",
    "filenames_test = load_embeddings('/home/csle/Desktop/CelebA_dataset_reduce/test/filenames.pickle')\n",
    "print(type(filenames_test), np.array(filenames_test).shape)\n",
    "filenames_train = load_embeddings('/home/csle/Desktop/CelebA_dataset_reduce/train/filenames.pickle')\n",
    "print(type(filenames_train), np.array(filenames_train).shape)\n",
    "\n",
    "list = load_attr_list('/home/csle/Desktop/CelebA_dataset_reduce/list_filenames.csv')\n",
    "for i in range(len(list)):\n",
    "    list[i] = list[i].replace('\\n', '')\n",
    "\n",
    "i = 0\n",
    "for name in list:\n",
    "    if name == filenames_test[3000]:\n",
    "        break\n",
    "    else:\n",
    "        i += 1\n",
    "print(i)\n",
    "\n",
    "test_attr = load_embeddings('/home/csle/Desktop/CelebA_dataset_reduce/test/attr_(embeddings).pickle')\n",
    "print(test_attr[3000])\n",
    "\n",
    "attr_list = load_attr_list('/home/csle/Desktop/CelebA_dataset_reduce/list_attr_celeba_pure.csv')\n",
    "attr_list[8149] = attr_list[8149].replace('-1', '0')\n",
    "print(attr_list[8149])"
   ]
  }
 ],
 "metadata": {
  "kernelspec": {
   "display_name": "Python 3",
   "language": "python",
   "name": "python3"
  },
  "language_info": {
   "codemirror_mode": {
    "name": "ipython",
    "version": 3
   },
   "file_extension": ".py",
   "mimetype": "text/x-python",
   "name": "python",
   "nbconvert_exporter": "python",
   "pygments_lexer": "ipython3",
   "version": "3.7.9"
  }
 },
 "nbformat": 4,
 "nbformat_minor": 5
}
