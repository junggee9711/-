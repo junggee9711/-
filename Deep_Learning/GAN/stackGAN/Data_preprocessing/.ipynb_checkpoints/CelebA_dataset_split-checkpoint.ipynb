{
 "cells": [
  {
   "cell_type": "code",
   "execution_count": 5,
   "metadata": {},
   "outputs": [
    {
     "name": "stdout",
     "output_type": "stream",
     "text": [
      "16000 4000\n",
      "['007014.jpg', '007767.jpg', '005911.jpg', '007021.jpg', '016953.jpg'] ['011457.jpg', '016529.jpg', '003254.jpg', '018615.jpg', '001545.jpg']\n"
     ]
    }
   ],
   "source": [
    "import pandas as pd\n",
    "import numpy as np\n",
    "import pickle\n",
    "\n",
    "dataset = pd.read_csv('/home/csle/Desktop/CelebA_dataset_reduce/list_filenames.csv', header=None)\n",
    "\n",
    "def split_train_test(dataset, test_ratio):\n",
    "    np.random.seed(1) # 항상 같은 train, test 세트가 생성됨 \n",
    "    shuffled = np.random.permutation(len(dataset)) # 0에서 len(dataset)-1 까지 숫자의 무작위 배열을 만듬\n",
    "    test_data_size = int(len(dataset) * test_ratio) # test_data 의 크기 결정\n",
    "    test_data_index = shuffled[:test_data_size]\n",
    "    train_data_index = shuffled[test_data_size:] # Dataframe \n",
    "    train_data = dataset.iloc[train_data_index]\n",
    "    test_data = dataset.iloc[test_data_index] # .permutation 으로 만든 무작위 배열 index 에서 train, test 데이터를 Dataframe 으로 할당 함\n",
    "    \n",
    "    train_data = list(np.array(train_data[0].tolist()))\n",
    "    test_data = list(np.array(test_data[0].tolist())) # (data_name) Dataframe -> list\n",
    "    \n",
    "    test_data_index = test_data_index.tolist()\n",
    "    train_data_index = train_data_index.tolist() # (data_index) narray -> list\n",
    "    \n",
    "    return train_data, test_data, train_data_index, test_data_index\n",
    "\n",
    "train_data_name, test_data_name, train_data_index, test_data_index = split_train_test(dataset, 0.2)\n",
    "\n",
    "def save_pickle(save_data, name):\n",
    "    with open(name, 'wb') as f:\n",
    "        pickle.dump(save_data, f) # save_data 를 name 경로에 .pickle 파일로 저장함\n",
    "\n",
    "print(len(train_data_name), len(test_data_name))\n",
    "print(train_data_name[:5], test_data_name[:5])\n",
    "save_pickle(train_data_name, '/home/csle/Desktop/CelebA_dataset_reduce/train/filenames.pickle')\n",
    "save_pickle(test_data_name, '/home/csle/Desktop/CelebA_dataset_reduce/test/filenames.pickle')\n",
    "\n",
    "\n"
   ]
  },
  {
   "cell_type": "code",
   "execution_count": 6,
   "metadata": {},
   "outputs": [
    {
     "name": "stdout",
     "output_type": "stream",
     "text": [
      "['011457.jpg', '016529.jpg', '003254.jpg', '018615.jpg', '001545.jpg'] ['007014.jpg', '007767.jpg', '005911.jpg', '007021.jpg', '016953.jpg']\n",
      "4000 16000\n",
      "<class 'list'> <class 'list'>\n"
     ]
    }
   ],
   "source": [
    "import pickle\n",
    "\n",
    "def load_filenames(filenames_file_path):\n",
    "    \"\"\"\n",
    "    Load filenames.pickle file and return a list of all file names\n",
    "    \"\"\"\n",
    "    with open(filenames_file_path, 'rb') as f:\n",
    "        filenames = pickle.load(f, encoding='latin1')\n",
    "    return filenames\n",
    "\n",
    "data_dir = '/home/csle/Desktop/CelebA_dataset_reduce'\n",
    "test_dir = data_dir + \"/test\"\n",
    "train_dir = data_dir + '/train'\n",
    "filenames_file_path_test = test_dir + \"/filenames.pickle\"\n",
    "filenames_file_path_train = train_dir + \"/filenames.pickle\"\n",
    "\n",
    "test_filenames = load_filenames(filenames_file_path_test)\n",
    "train_filenames = load_filenames(filenames_file_path_train)\n",
    "\n",
    "print(test_filenames[:5], train_filenames[:5])\n",
    "print(len(test_filenames), len(train_filenames))\n",
    "print(type(test_filenames), type(train_filenames))\n",
    "\n",
    "# 저장이 잘 됐는지 확인"
   ]
  }
 ],
 "metadata": {
  "kernelspec": {
   "display_name": "Python 3",
   "language": "python",
   "name": "python3"
  },
  "language_info": {
   "codemirror_mode": {
    "name": "ipython",
    "version": 3
   },
   "file_extension": ".py",
   "mimetype": "text/x-python",
   "name": "python",
   "nbconvert_exporter": "python",
   "pygments_lexer": "ipython3",
   "version": "3.7.9"
  }
 },
 "nbformat": 4,
 "nbformat_minor": 4
}
