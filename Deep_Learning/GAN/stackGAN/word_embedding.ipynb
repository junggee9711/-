{
 "cells": [
  {
   "cell_type": "code",
   "execution_count": 10,
   "id": "considerable-equality",
   "metadata": {},
   "outputs": [
    {
     "name": "stdout",
     "output_type": "stream",
     "text": [
      "(2933, 10, 1024)\n"
     ]
    }
   ],
   "source": [
    "import pickle\n",
    "import numpy as np\n",
    "\n",
    "def load_filenames(filenames_file_path):\n",
    "    \"\"\"\n",
    "    Load filenames.pickle file and return a list of all file names\n",
    "    \"\"\"\n",
    "    with open(filenames_file_path, 'rb') as f:\n",
    "        filenames = pickle.load(f, encoding='latin1')\n",
    "    return filenames\n",
    "\n",
    "data_dir = \"C:/Users/user/Desktop/birds/birds\"\n",
    "test_dir = data_dir + \"/test\"\n",
    "test_text_embeddings = test_dir + \"/char-CNN-RNN-embeddings.pickle\"\n",
    "\n",
    "text_embeddings = load_filenames(test_text_embeddings)\n",
    "\n",
    "print(np.array(text_embeddings).shape)\n",
    "\n"
   ]
  },
  {
   "cell_type": "code",
   "execution_count": 20,
   "id": "scheduled-logging",
   "metadata": {},
   "outputs": [
    {
     "name": "stdout",
     "output_type": "stream",
     "text": [
      "embeddings:  (2933, 10, 1024)\n",
      "(10, 1024)\n",
      "(1024,)\n"
     ]
    }
   ],
   "source": [
    "import random\n",
    "\n",
    "def load_embeddings(embeddings_file_path):\n",
    "    \"\"\"\n",
    "    훈련된 텍스트 임베딩을 불러옴\n",
    "    \"\"\"\n",
    "    with open(embeddings_file_path, 'rb') as f:\n",
    "        embeddings = pickle.load(f, encoding='latin1')\n",
    "        embeddings = np.array(embeddings)\n",
    "        print('embeddings: ', embeddings.shape)\n",
    "    return embeddings\n",
    "\n",
    "data_dir = \"C:/Users/user/Desktop/birds/birds\"\n",
    "test_dir = data_dir + \"/test\"\n",
    "test_text_embeddings = test_dir + \"/char-CNN-RNN-embeddings.pickle\"\n",
    "\n",
    "all_embeddings = load_embeddings(test_text_embeddings)\n",
    "\n",
    "all_embeddings1 = all_embeddings[0, :, :]\n",
    "\n",
    "print(all_embeddings1.shape)\n",
    "\n",
    "embedding_ix = random.randint(0, all_embeddings1.shape[0] - 1)\n",
    "embedding = all_embeddings1[embedding_ix, :]\n",
    "\n",
    "print(embedding.shape)\n"
   ]
  }
 ],
 "metadata": {
  "kernelspec": {
   "display_name": "Python 3",
   "language": "python",
   "name": "python3"
  },
  "language_info": {
   "codemirror_mode": {
    "name": "ipython",
    "version": 3
   },
   "file_extension": ".py",
   "mimetype": "text/x-python",
   "name": "python",
   "nbconvert_exporter": "python",
   "pygments_lexer": "ipython3",
   "version": "3.7.9"
  }
 },
 "nbformat": 4,
 "nbformat_minor": 5
}
