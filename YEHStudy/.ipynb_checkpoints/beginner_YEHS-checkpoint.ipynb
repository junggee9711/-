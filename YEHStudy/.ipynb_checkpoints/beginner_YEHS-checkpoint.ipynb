{
 "cells": [
  {
   "cell_type": "markdown",
   "metadata": {
    "id": "3wF5wszaj97Y"
   },
   "source": [
    "# 텐서플로 2.0 시작하기: 초보자용"
   ]
  },
  {
   "cell_type": "markdown",
   "metadata": {
    "id": "hiH7AC-NTniF"
   },
   "source": [
    "이 문서는 [구글 코랩](https://colab.research.google.com/notebooks/welcome.ipynb)(Colaboratory) 노트북 파일을 기반으로 2021YEHS Study ML을 위해 수정되었습니다. 파이썬 프로그램을 브라우저에서 직접 실행할 수 있기 때문에 텐서플로를 배우고 사용하기 좋은 도구입니다.\n",
    "\n",
    "1. 파이썬 런타임(runtime)에 연결하세요: 메뉴 막대의 오른쪽 상단에서 *CONNECT*를 선택하세요.\n",
    "2. 노트북의 모든 코드 셀(cell)을 실행하세요: *Runtime* > *Run all*을 선택하세요.\n",
    "\n",
    "더 많은 예제와 자세한 안내는 [텐서플로 튜토리얼](https://www.tensorflow.org/tutorials/)을 참고하세요.\n",
    "\n",
    "먼저 프로그램에 텐서플로 라이브러리를 임포트합니다:"
   ]
  },
  {
   "cell_type": "code",
   "execution_count": null,
   "metadata": {
    "id": "0trJmd6DjqBZ"
   },
   "outputs": [],
   "source": [
    "#!pip install -q tensorflow-gpu==2.4.0-rc1\n",
    "import tensorflow as tf"
   ]
  },
  {
   "cell_type": "markdown",
   "metadata": {
    "id": "7NAbSZiaoJ4z"
   },
   "source": [
    "[MNIST 데이터셋](http://yann.lecun.com/exdb/mnist/)중 숫자 필기체 데이터를 로드하여 준비합니다. 샘플 값을 정수에서 부동소수로 변환합니다:\n",
    "* Modified subset of NIST (National Institute of Standards and Technology) 약자이다. NIST에서 수집된 DB를 약간 수정한 DB\n",
    "* MNIST데이터에는 숫자 필기체 뿐만 아니라 아래와 같이 의상 데이터도 함께 있다."
   ]
  },
  {
   "cell_type": "code",
   "execution_count": null,
   "metadata": {
    "id": "7FP5258xjs-v"
   },
   "outputs": [],
   "source": [
    "# 필기체 MNIST Data\n",
    "mnist = tf.keras.datasets.mnist\n",
    "(train_images, train_labels), (test_images, test_labels) = mnist.load_data()\n",
    "class_names = ['0','1','2','3','4','5','6','7','8','9']"
   ]
  },
  {
   "cell_type": "code",
   "execution_count": null,
   "metadata": {
    "colab": {
     "background_save": true
    },
    "id": "DabgGsNN5Nco"
   },
   "outputs": [],
   "source": [
    "# 의상 MNIST Data\n",
    "fashion_mnist = tf.keras.datasets.fashion_mnist\n",
    "(train_images, train_labels), (test_images, test_labels) = fashion_mnist.load_data()\n",
    "class_names = ['T-shirt/top', 'Trouser', 'Pullover', 'Dress', 'Coat',\n",
    "               'Sandal', 'Shirt', 'Sneaker', 'Bag', 'Ankle boot']"
   ]
  },
  {
   "cell_type": "markdown",
   "metadata": {
    "id": "Z8RIcTk6l525"
   },
   "source": [
    "불러온 데이터를 확인해봅시다. 이미지는 28x28 크기의 넘파이 배열이고 픽셀 값은 0과 255 사이입니다. 레이블(label)은 0에서 9까지의 정수 배열입니다. "
   ]
  },
  {
   "cell_type": "code",
   "execution_count": null,
   "metadata": {
    "id": "kHz8nBLol5--"
   },
   "outputs": [],
   "source": [
    "print(train_images.shape)\n",
    "print(train_images[0])\n",
    "print(train_labels.shape)\n",
    "print(train_labels)\n",
    "\n",
    "import matplotlib.pyplot as plt\n",
    "import random\n",
    "n = random.randint(0, 60000)\n",
    "plt.figure()\n",
    "plt.imshow(train_images[n])\n",
    "plt.suptitle(class_names[train_labels[n]])\n",
    "plt.colorbar()\n",
    "plt.grid(False)\n",
    "plt.show()"
   ]
  },
  {
   "cell_type": "markdown",
   "metadata": {
    "id": "HhPqw3vbmwSt"
   },
   "source": [
    "이 값은 이미지에 있는 숫자를 나타냅니다. 신경망 모델에 주입하기 전에 이 값의 범위를 0~1 사이로 조정하겠습니다. 이렇게 하려면 255로 나누어야 합니다. 훈련 세트와 테스트 세트를 동일한 방식으로 전처리하는 것이 중요합니다:"
   ]
  },
  {
   "cell_type": "code",
   "execution_count": null,
   "metadata": {
    "id": "nt5XjV4ZmwNY"
   },
   "outputs": [],
   "source": [
    "train_images, test_images = train_images / 255.0, test_images / 255.0\n",
    "\n",
    "plt.imshow(train_images[n], cmap=plt.cm.binary)\n",
    "plt.suptitle(class_names[train_labels[n]])\n",
    "plt.colorbar()\n",
    "plt.grid(False)\n",
    "plt.show()"
   ]
  },
  {
   "cell_type": "markdown",
   "metadata": {
    "id": "BPZ68wASog_I"
   },
   "source": [
    "층을 차례대로 쌓아 `tf.keras.Sequential` 모델을 만듭니다. 훈련에 사용할 옵티마이저(optimizer)와 손실 함수를 선택합니다. \n",
    "* 이 부분에서는 데이터를 매개변수로 받지 않습니다. 모델의 구조만을 명시합니다."
   ]
  },
  {
   "cell_type": "code",
   "execution_count": null,
   "metadata": {
    "id": "h3IKyzTCDNGo"
   },
   "outputs": [],
   "source": [
    "model = tf.keras.models.Sequential([\n",
    "  tf.keras.layers.Flatten(input_shape=(28, 28)), # 28x28 Matrix to 784x1 vector\n",
    "  tf.keras.layers.Dense(128, activation='relu'),  \n",
    "  #tf.keras.layers.Dropout(0.2),\n",
    "  tf.keras.layers.Dense(10, activation='softmax') # 784x1 vector to 10x1 vector\n",
    "])\n",
    "\n",
    "model.compile(optimizer='sgd',\n",
    "              loss='sparse_categorical_crossentropy',\n",
    "              metrics=['accuracy'])\n",
    "model.summary()"
   ]
  },
  {
   "cell_type": "markdown",
   "metadata": {
    "id": "ix4mEL65on-w"
   },
   "source": [
    "모델을 훈련하고 평가합니다:"
   ]
  },
  {
   "cell_type": "code",
   "execution_count": null,
   "metadata": {
    "id": "F7dTAzgHDUh7"
   },
   "outputs": [],
   "source": [
    "history = model.fit(train_images, train_labels, epochs=5)\n",
    "model.evaluate(test_images, test_labels, verbose=1)"
   ]
  },
  {
   "cell_type": "code",
   "execution_count": null,
   "metadata": {
    "id": "vC6_uGSd3XWN"
   },
   "outputs": [],
   "source": [
    "plt.subplot(1,2,1)\n",
    "plt.plot(history.history['accuracy'])\n",
    "plt.subplot(1,2,2)\n",
    "plt.plot(history.history['loss'])"
   ]
  },
  {
   "cell_type": "markdown",
   "metadata": {
    "id": "T4JfEh7kvx6m"
   },
   "source": [
    "훈련된 이미지 분류기는 이 데이터셋에서 90% 이상의 정확도를 달성합니다. 아래 함수를 통해 모델을 시각화할 수 있습니다."
   ]
  },
  {
   "cell_type": "code",
   "execution_count": null,
   "metadata": {
    "id": "Rrm1lakmrKWi"
   },
   "outputs": [],
   "source": [
    "from tensorflow.keras.utils import plot_model\n",
    "plot_model(model, show_shapes=True)"
   ]
  },
  {
   "cell_type": "markdown",
   "metadata": {
    "id": "i4JVwGA-tuBZ"
   },
   "source": [
    "이제 모델이 완성되었습니다! 모델을 직접 사용해봅시다."
   ]
  },
  {
   "cell_type": "code",
   "execution_count": null,
   "metadata": {
    "id": "gF1ooNDPttaU"
   },
   "outputs": [],
   "source": [
    "import numpy as np\n",
    "predictions = model.predict(test_images)\n",
    "\n",
    "m = random.randint(0, np.shape(test_images)[0])\n",
    "print('['+str(m) + 'th test image'+']')\n",
    "plt.suptitle('['+str(m)+'th test image'+']-'+'[True = '+str(class_names[train_labels[m]])+ ' Predict: '+str(class_names[np.argmax(predictions[m])])+']')\n",
    "plt.subplot(1,2,1)\n",
    "plt.imshow(test_images[m], cmap=plt.cm.binary)\n",
    "plt.subplot(1,2,2)\n",
    "plt.bar(np.arange(10), predictions[m])\n",
    "plt.xticks([i * 2 + 0.5 for i in range(len(class_names))],class_names)\n",
    "plt.show()\n",
    "\n",
    "print(predictions[m])\n",
    "print(np.argmax(predictions[m]))"
   ]
  },
  {
   "cell_type": "markdown",
   "metadata": {
    "id": "Ms9ZWNyzsSLW"
   },
   "source": [
    "[불안정] TensorFlow는 [TensorBoard](https://www.tensorflow.org/tensorboard?hl=ko)라는 강력한 시각화 도구를 제공합니다. "
   ]
  },
  {
   "cell_type": "code",
   "execution_count": null,
   "metadata": {
    "id": "JXWCLtXmyHCd"
   },
   "outputs": [],
   "source": [
    "# Load the TensorBoard notebook extension\n",
    "%load_ext tensorboard\n",
    "import datetime\n",
    "!rm -rf ./logs/ \n",
    "log_dir = \"logs/fit/\" + datetime.datetime.now().strftime(\"%Y%m%d-%H%M%S\")\n",
    "tensorboard_callback = tf.keras.callbacks.TensorBoard(log_dir=log_dir, histogram_freq=1)\n",
    "model.fit(train_images, train_labels, \n",
    "          epochs=100, \n",
    "          callbacks=[tensorboard_callback])"
   ]
  },
  {
   "cell_type": "code",
   "execution_count": null,
   "metadata": {
    "id": "ANDenU7T2GLk"
   },
   "outputs": [],
   "source": [
    "%tensorboard --logdir logs/fit"
   ]
  }
 ],
 "metadata": {
  "colab": {
   "collapsed_sections": [],
   "name": "beginner_YEHS.ipynb",
   "provenance": [],
   "toc_visible": true
  },
  "kernelspec": {
   "display_name": "Python 3",
   "language": "python",
   "name": "python3"
  },
  "language_info": {
   "codemirror_mode": {
    "name": "ipython",
    "version": 3
   },
   "file_extension": ".py",
   "mimetype": "text/x-python",
   "name": "python",
   "nbconvert_exporter": "python",
   "pygments_lexer": "ipython3",
   "version": "3.8.8"
  }
 },
 "nbformat": 4,
 "nbformat_minor": 1
}
